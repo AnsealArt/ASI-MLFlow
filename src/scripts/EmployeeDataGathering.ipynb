{
 "cells": [
  {
   "cell_type": "code",
   "execution_count": 104,
   "id": "eba93b3e",
   "metadata": {},
   "outputs": [],
   "source": [
    "import pandas as pd\n",
    "from sklearn import preprocessing\n",
    "from sklearn.model_selection import train_test_split"
   ]
  },
  {
   "cell_type": "code",
   "execution_count": 105,
   "id": "97b2b16a",
   "metadata": {},
   "outputs": [],
   "source": [
    "url=\"https://raw.githubusercontent.com/pycaret/pycaret/master/datasets/employee.csv\""
   ]
  },
  {
   "cell_type": "code",
   "execution_count": 106,
   "id": "e0e20cbc",
   "metadata": {},
   "outputs": [],
   "source": [
    "df=pd.read_csv(url)\n",
    "df.to_csv(\"employeeDataSet.csv\")"
   ]
  },
  {
   "cell_type": "code",
   "execution_count": 107,
   "id": "ed585457",
   "metadata": {
    "scrolled": true
   },
   "outputs": [],
   "source": [
    "df_dummies = pd.get_dummies(df, columns=[\"department\", \"salary\"])"
   ]
  },
  {
   "cell_type": "code",
   "execution_count": 108,
   "id": "21da93ed",
   "metadata": {},
   "outputs": [],
   "source": [
    "df_dummies.sample(5)\n",
    "\n",
    "columns = ['satisfaction_level', 'last_evaluation', 'number_project', 'average_montly_hours', 'time_spend_company']\n",
    "\n",
    "df_dummies_normalized = df_dummies.copy()\n",
    "for column in columns:\n",
    "    df_dummies_normalized[column] = df_dummies_normalized[column] /df_dummies_normalized[column].abs().max()"
   ]
  },
  {
   "cell_type": "code",
   "execution_count": 116,
   "id": "98e74618",
   "metadata": {},
   "outputs": [
    {
     "name": "stdout",
     "output_type": "stream",
     "text": [
      "(14999, 20)\n",
      "(7499, 20)\n",
      "(5249, 20)\n",
      "(1485, 20)\n",
      "(765, 20)\n"
     ]
    }
   ],
   "source": [
    "x = df_dummies_normalized.loc[:, df_dummies_normalized.columns != 'left']\n",
    "y = df_dummies_normalized.loc[:, df_dummies_normalized.columns == 'left']\n",
    "\n",
    "dev_x, prod_x, dev_y, prod_y = train_test_split(\n",
    "    x, \n",
    "    y, \n",
    "    random_state=42, \n",
    "    test_size=0.5\n",
    ")\n",
    "\n",
    "train_x, test_evaluation_x, train_y, test_evaluation_y = train_test_split(\n",
    "    dev_x, \n",
    "    dev_y, \n",
    "    random_state=42, \n",
    "    test_size=0.3\n",
    ")\n",
    "\n",
    "evaluation_x, test_x, evaluation_y, test_y = train_test_split(\n",
    "    test_evaluation_x, \n",
    "    test_evaluation_y, \n",
    "    random_state=42, \n",
    "    test_size=0.66\n",
    ")"
   ]
  },
  {
   "cell_type": "code",
   "execution_count": 131,
   "id": "1b8b4192",
   "metadata": {},
   "outputs": [],
   "source": [
    "df_prod = pd.concat([prod_x, prod_y], axis=1)\n",
    "df_train = pd.concat([train_x, train_y], axis=1)\n",
    "df_test = pd.concat([test_x, test_y], axis=1)\n",
    "df_evaluation = pd.concat([evaluation_x, evaluation_y], axis=1)"
   ]
  },
  {
   "cell_type": "code",
   "execution_count": 133,
   "id": "4b72ab7a",
   "metadata": {},
   "outputs": [],
   "source": [
    "df_prod.to_csv(\"employeeProdData.csv\")\n",
    "df_train.to_csv(\"employeeTrainData.csv\")\n",
    "df_test.to_csv(\"employeeTestData.csv\")\n",
    "df_evaluation.to_csv(\"employeeEvaluationData.csv\")"
   ]
  },
  {
   "cell_type": "code",
   "execution_count": null,
   "id": "aa4d683d",
   "metadata": {},
   "outputs": [],
   "source": []
  }
 ],
 "metadata": {
  "kernelspec": {
   "display_name": "Python 3 (ipykernel)",
   "language": "python",
   "name": "python3"
  },
  "language_info": {
   "codemirror_mode": {
    "name": "ipython",
    "version": 3
   },
   "file_extension": ".py",
   "mimetype": "text/x-python",
   "name": "python",
   "nbconvert_exporter": "python",
   "pygments_lexer": "ipython3",
   "version": "3.10.4"
  }
 },
 "nbformat": 4,
 "nbformat_minor": 5
}
